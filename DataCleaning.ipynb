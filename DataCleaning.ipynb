{
  "nbformat": 4,
  "nbformat_minor": 0,
  "metadata": {
    "colab": {
      "provenance": []
    },
    "kernelspec": {
      "name": "python3",
      "display_name": "Python 3"
    },
    "language_info": {
      "name": "python"
    }
  },
  "cells": [
    {
      "cell_type": "code",
      "execution_count": 3,
      "metadata": {
        "colab": {
          "base_uri": "https://localhost:8080/"
        },
        "id": "RFbumDzkO8to",
        "outputId": "09280f1e-873c-4452-ffe3-791752f4869f"
      },
      "outputs": [
        {
          "output_type": "stream",
          "name": "stdout",
          "text": [
            "Cleaned dataset saved to /content/TOY STORY-cleaned.txt\n"
          ]
        }
      ],
      "source": [
        "import re\n",
        "\n",
        "# Load the Toy Story dataset\n",
        "input_file = \"/content/TOY STORY.txt\"\n",
        "output_file = \"/content/TOY STORY-cleaned.txt\"\n",
        "\n",
        "# Define a function to clean the dataset\n",
        "def clean_toy_story_dataset(input_path, output_path):\n",
        "    with open(input_path, 'r', encoding='utf-8') as f:\n",
        "        lines = f.readlines()\n",
        "\n",
        "    cleaned_lines = []\n",
        "    current_speaker = None\n",
        "\n",
        "    for line in lines:\n",
        "        line = line.strip()  # Remove leading and trailing whitespaces\n",
        "\n",
        "        # Check if the line contains a speaker\n",
        "        if re.match(r'^[A-Z][A-Z\\s]*:$', line):  # Regex for identifying speaker lines\n",
        "            current_speaker = line\n",
        "        elif current_speaker:  # If there's a current speaker, format their dialogue\n",
        "            cleaned_lines.append(f\"{current_speaker} {line}\")\n",
        "            current_speaker = None\n",
        "        else:\n",
        "            # For lines without a speaker, treat them as part of the previous dialogue\n",
        "            if cleaned_lines:\n",
        "                cleaned_lines[-1] += f\" {line}\"\n",
        "\n",
        "    # Write the cleaned dataset to a new file\n",
        "    with open(output_path, 'w', encoding='utf-8') as f:\n",
        "        for line in cleaned_lines:\n",
        "            f.write(line + '\\n')\n",
        "\n",
        "    print(f\"Cleaned dataset saved to {output_path}\")\n",
        "\n",
        "# Run the cleaning function\n",
        "clean_toy_story_dataset(input_file, output_file)"
      ]
    },
    {
      "cell_type": "code",
      "source": [
        "import re\n",
        "\n",
        "# Comprehensive list of characters\n",
        "MAIN_CHARACTERS = {\n",
        "    'ANDY', 'WOODY', 'BUZZ LIGHTYEAR', 'BO PEEP', 'MR. POTATO HEAD',\n",
        "    'REX', 'SLINKY', 'HAMM'\n",
        "}\n",
        "\n",
        "SIDE_CHARACTERS = {\n",
        "    'SARGENT', 'LENNY', 'SCUD', 'SID', 'HANNAH', 'RC', 'SHARK',\n",
        "    'BABYFACE', 'MIKE', 'ROBOT', 'ALIENS', 'THE GREEN ARMY MEN',\n",
        "    'WOUNDED SOLDIER', 'MUTANT TOYS'\n",
        "}\n",
        "\n",
        "BACKGROUND_CHARACTERS = {\n",
        "    'MRS. DAVIS', 'FRIENDS', 'PIZZA PLANET ATTENDANT',\n",
        "    'PIZZA PLANET CUSTOMERS'\n",
        "}\n",
        "\n",
        "ALL_CHARACTERS = MAIN_CHARACTERS.union(SIDE_CHARACTERS).union(BACKGROUND_CHARACTERS)\n",
        "\n",
        "def is_character_name(word):\n",
        "    \"\"\"\n",
        "    Check if the word is a known character name.\n",
        "    \"\"\"\n",
        "    # Remove any parenthetical notes\n",
        "    clean_word = re.sub(r'\\(.*?\\)', '', word).strip()\n",
        "\n",
        "    # Check if the cleaned word is in our character list\n",
        "    return clean_word in ALL_CHARACTERS\n",
        "\n",
        "def process_script(input_text):\n",
        "    \"\"\"\n",
        "    Process the script to:\n",
        "    1. Add colons after character names\n",
        "    2. Add new lines after character dialogues\n",
        "    \"\"\"\n",
        "    # Function to replace character names with Character:\n",
        "    def replace_character_names(match):\n",
        "        word = match.group(0)\n",
        "        # Check if it's a character name\n",
        "        if is_character_name(word):\n",
        "            return word + ':'\n",
        "        return word\n",
        "\n",
        "    # First, add colons to character names\n",
        "    modified_text = re.sub(r'\\b[A-Z][A-Z\\.\\s]+\\b', replace_character_names, input_text)\n",
        "\n",
        "    # Add new lines after character dialogues\n",
        "    # This regex looks for dialogue lines and adds a newline after them\n",
        "    modified_text = re.sub(r'((?:[A-Z][A-Z\\.\\s]+:)(?:\\s*\\(.*?\\))?.*?)((?=[A-Z][A-Z\\.\\s]+:)|$)', r'\\1\\n\\n', modified_text)\n",
        "\n",
        "    return modified_text\n",
        "\n",
        "def process_file(input_filepath, output_filepath):\n",
        "    \"\"\"\n",
        "    Process the entire input file and save the modified text.\n",
        "    \"\"\"\n",
        "    try:\n",
        "        # Read input file\n",
        "        with open(input_filepath, 'r', encoding='utf-8') as file:\n",
        "            input_text = file.read()\n",
        "\n",
        "        # Process text\n",
        "        modified_text = process_script(input_text)\n",
        "\n",
        "        # Save modified text\n",
        "        with open(output_filepath, 'w', encoding='utf-8') as file:\n",
        "            file.write(modified_text)\n",
        "\n",
        "        print(f\"Successfully processed file. Output saved to {output_filepath}\")\n",
        "\n",
        "    except Exception as e:\n",
        "        print(f\"An error occurred: {e}\")\n",
        "\n",
        "# Specify input and output file paths directly\n",
        "input_filepath = '/content/TOY STORY-cleaned.txt'  # Default Colab input file path\n",
        "output_filepath = '/content/TOY STORY-new.txt'  # Default Colab output file path\n",
        "\n",
        "# Process the file\n",
        "process_file(input_filepath, output_filepath)"
      ],
      "metadata": {
        "colab": {
          "base_uri": "https://localhost:8080/"
        },
        "id": "PzeGz71lShq-",
        "outputId": "efb906da-0de1-4856-ae6c-8911e0085ce1"
      },
      "execution_count": 7,
      "outputs": [
        {
          "output_type": "stream",
          "name": "stdout",
          "text": [
            "Successfully processed file. Output saved to /content/TOY STORY-new.txt\n"
          ]
        }
      ]
    }
  ]
}